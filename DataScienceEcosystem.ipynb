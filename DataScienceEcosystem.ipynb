{
 "cells": [
  {
   "cell_type": "markdown",
   "id": "873711c4-cc36-4988-a4b5-c5424c4d96b7",
   "metadata": {},
   "source": [
    "<h1> Data Science Tools and Ecosystem"
   ]
  },
  {
   "cell_type": "markdown",
   "id": "a5bcc566-4758-4273-8a4e-4c2a0b2e4ee2",
   "metadata": {},
   "source": [
    "<h2>In this Notebook, Data Science tools and Ecosystem are summarized."
   ]
  },
  {
   "cell_type": "markdown",
   "id": "9714c2bc-a1ff-446d-af45-7a7151f2287c",
   "metadata": {},
   "source": [
    "<h2>Objectives\n",
    "    \n",
    "* Popular data Science languages\n",
    "* Popular data Science libraries\n",
    "* Popular Data science IDE tools\n",
    "* Arithmetic expressions in Python\n"
   ]
  },
  {
   "cell_type": "markdown",
   "id": "49d7a0d5-7e81-4013-af7d-e743ac252139",
   "metadata": {},
   "source": [
    "<h4>Some of the popular languages that Data Scientists use are: \n",
    "    \n",
    "1. Python\n",
    "2. R\n",
    "3. Java\n",
    "4. Scala"
   ]
  },
  {
   "cell_type": "markdown",
   "id": "2ab7860b-609e-467a-82b1-9afa70e4bfd4",
   "metadata": {},
   "source": [
    "<h3>Some of the commonly used libraries by Data Scientists include:\n",
    "\n",
    "1.Matplotlib\n",
    "\n",
    "2.Numpy\n",
    "\n",
    "3.Pandas\n",
    "\n",
    "4.Tensor Flow\n",
    "\n",
    "5.Scikit-Learn"
   ]
  },
  {
   "cell_type": "markdown",
   "id": "5fb20b07-08ab-42cf-aa76-4e1cfe665e78",
   "metadata": {},
   "source": [
    "|DATA SCIENCE TOOLS|\n",
    "|------------------|\n",
    "|Jupyter           |\n",
    "|------------------|\n",
    "|R-studio          |\n",
    "|------------------|\n",
    "|Spyder            |\n",
    "|------------------|"
   ]
  },
  {
   "cell_type": "markdown",
   "id": "22f5151b-66d3-48ac-99c4-5e5d886be75c",
   "metadata": {},
   "source": [
    "<h3>Below are a few examples of evaluating arithmetic expressions in Python:"
   ]
  },
  {
   "cell_type": "code",
   "execution_count": 17,
   "id": "0c3a1a53-cb21-42ab-9faa-adf9756e8eb7",
   "metadata": {},
   "outputs": [
    {
     "data": {
      "text/plain": [
       "17"
      ]
     },
     "execution_count": 17,
     "metadata": {},
     "output_type": "execute_result"
    }
   ],
   "source": [
    "# This is a simple arithmetic expression to multiply then add integers\n",
    "\n",
    "(3*4)+5\n"
   ]
  },
  {
   "cell_type": "code",
   "execution_count": 19,
   "id": "a92e67cb-2977-44ee-94a5-00de033d0d8e",
   "metadata": {},
   "outputs": [
    {
     "data": {
      "text/plain": [
       "3.3333333333333335"
      ]
     },
     "execution_count": 19,
     "metadata": {},
     "output_type": "execute_result"
    }
   ],
   "source": [
    "# This will convert 200 minutes to hours by dividing by 60\n",
    "200/60"
   ]
  },
  {
   "cell_type": "markdown",
   "id": "69e54d54-8f27-4936-a740-1974e6e192e7",
   "metadata": {},
   "source": [
    "<h2> Author.\n",
    "    \n",
    "<h4>Ram Kwame Wadhwani"
   ]
  },
  {
   "cell_type": "code",
   "execution_count": null,
   "id": "a77468c8-3cc2-4a8b-83d8-2e4ddd1b5130",
   "metadata": {},
   "outputs": [],
   "source": []
  }
 ],
 "metadata": {
  "kernelspec": {
   "display_name": "Python 3 (ipykernel)",
   "language": "python",
   "name": "python3"
  },
  "language_info": {
   "codemirror_mode": {
    "name": "ipython",
    "version": 3
   },
   "file_extension": ".py",
   "mimetype": "text/x-python",
   "name": "python",
   "nbconvert_exporter": "python",
   "pygments_lexer": "ipython3",
   "version": "3.12.7"
  }
 },
 "nbformat": 4,
 "nbformat_minor": 5
}
